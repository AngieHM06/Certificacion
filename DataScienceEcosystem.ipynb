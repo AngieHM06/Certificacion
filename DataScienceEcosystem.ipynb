{
  "metadata": {
    "kernelspec": {
      "name": "python",
      "display_name": "Python (Pyodide)",
      "language": "python"
    },
    "language_info": {
      "codemirror_mode": {
        "name": "python",
        "version": 3
      },
      "file_extension": ".py",
      "mimetype": "text/x-python",
      "name": "python",
      "nbconvert_exporter": "python",
      "pygments_lexer": "ipython3",
      "version": "3.8"
    }
  },
  "nbformat_minor": 5,
  "nbformat": 4,
  "cells": [
    {
      "id": "98aef305-061e-492c-a63d-d7edac181bae",
      "cell_type": "markdown",
      "source": "# Data Science Tools and Ecosystem",
      "metadata": {}
    },
    {
      "id": "75c9996f-3b71-46ed-bd93-8d1b8150fc73",
      "cell_type": "markdown",
      "source": "In this notebook, Data Science Tools and Ecosystem are summarized.",
      "metadata": {}
    },
    {
      "id": "0e9368cd-0a61-472c-bfe7-614c81b99935",
      "cell_type": "markdown",
      "source": "**Objectives:**\n\n- Convert time units (e.g., minutes to hours).\n- Learn basic mathematical operations in Python.\n- Manipulate and work with variables and expressions.\n- Understand how to write explanatory comments in code.",
      "metadata": {}
    },
    {
      "id": "2cd6d1f3-e22f-4da6-a38a-5f0cfde349c7",
      "cell_type": "markdown",
      "source": "Some of the popular languages that Data Scientists use are:\n1. Python\n2. R\n3. SQL",
      "metadata": {}
    },
    {
      "id": "dc52df8e-aaeb-4e56-bd03-aaea3e4605f3",
      "cell_type": "markdown",
      "source": "Some of the commonly used libraries used by Data Scientists include\n* Pandas\n* Seaborn\n* Ploty",
      "metadata": {}
    },
    {
      "id": "1c05bf94-e07f-4aea-a8e2-2f9f99b1c041",
      "cell_type": "markdown",
      "source": "| Data Science Tools |\n| -------------|\n| Jupyter Notebook | \n| Rstudio |\n| Apache | ",
      "metadata": {}
    },
    {
      "id": "eae601ea-92a9-43b1-97d9-a70cb29c8864",
      "cell_type": "markdown",
      "source": "### Below are a few examples of evaluating arithmetic expressions in Python",
      "metadata": {}
    },
    {
      "id": "83c24705-153d-4531-9c25-359a15f7c971",
      "cell_type": "code",
      "source": "# This a simple arithmetic expression to mutiply then add integers",
      "metadata": {
        "trusted": true
      },
      "outputs": [],
      "execution_count": 17
    },
    {
      "id": "d56855e9-1cde-4815-8687-a44f16ae09f4",
      "cell_type": "code",
      "source": "(3*4)+5",
      "metadata": {
        "trusted": true
      },
      "outputs": [
        {
          "execution_count": 20,
          "output_type": "execute_result",
          "data": {
            "text/plain": "17"
          },
          "metadata": {}
        }
      ],
      "execution_count": 20
    },
    {
      "id": "1c2a0627-8aae-4c81-ab67-fce20c3f2190",
      "cell_type": "code",
      "source": "# This will convert 200 minutes to hours by dividing by 60\n200 / 60",
      "metadata": {
        "trusted": true
      },
      "outputs": [
        {
          "execution_count": 23,
          "output_type": "execute_result",
          "data": {
            "text/plain": "3.3333333333333335"
          },
          "metadata": {}
        }
      ],
      "execution_count": 23
    },
    {
      "id": "c6ce25f1-ef22-4fd4-a751-c737b3d80a4d",
      "cell_type": "markdown",
      "source": "## Author Angie Holguin",
      "metadata": {}
    },
    {
      "id": "740bd31d-e009-44bb-888c-4c65aab3749b",
      "cell_type": "code",
      "source": "",
      "metadata": {
        "trusted": true
      },
      "outputs": [],
      "execution_count": null
    }
  ]
}